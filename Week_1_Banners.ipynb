{
 "cells": [
  {
   "cell_type": "markdown",
   "metadata": {},
   "source": [
    "# Задание по программированию: Размещение баннеров\n",
    "\n",
    "Автор: Сметанин Александр\n",
    "\n",
    "Дата: 20.06.2018\n",
    "\n",
    "\n",
    "Представим, что международное круизное агентство Carnival Cruise Line решило себя разрекламировать с помощью баннеров и обратилось для этого к вам. Чтобы протестировать, велика ли от таких баннеров польза, их будет размещено всего 20 штук по всему миру. Вам надо выбрать 20 таких локаций для размещения, чтобы польза была большой и агентство продолжило с вами сотрудничать.\n",
    "\n",
    "Агентство крупное, и у него есть несколько офисов по всему миру. Вблизи этих офисов оно и хочет разместить баннеры — легче договариваться и проверять результат. Также эти места должны быть популярны среди туристов.\n",
    "\n",
    "Для поиска оптимальных мест воспользуемся базой данных крупнейшей социальной сети, основанной на локациях — Foursquare.\n",
    "\n",
    "Часть открытых данных есть, например, на сайте archive.org:\n",
    "\n",
    "https://archive.org/details/201309_foursquare_dataset_umn\n",
    "\n",
    "Файл данных fsq.zip доступен для скачивания с этой страницы."
   ]
  },
  {
   "cell_type": "code",
   "execution_count": 1,
   "metadata": {},
   "outputs": [],
   "source": [
    "import pandas as pd\n",
    "import numpy as np\n",
    "from sklearn.cluster import MeanShift"
   ]
  },
  {
   "cell_type": "markdown",
   "metadata": {},
   "source": [
    "Нас будет интересовать файл checkins.dat. Открыв его, увидим следующую структуру:"
   ]
  },
  {
   "cell_type": "code",
   "execution_count": 2,
   "metadata": {},
   "outputs": [],
   "source": [
    "with open('checkins.dat', 'r') as fo:\n",
    "    lines = fo.readlines()"
   ]
  },
  {
   "cell_type": "code",
   "execution_count": 3,
   "metadata": {},
   "outputs": [
    {
     "data": {
      "text/plain": [
       "['   id    | user_id | venue_id |     latitude      |     longitude     |     created_at      \\n',\n",
       " '---------+---------+----------+-------------------+-------------------+---------------------\\n',\n",
       " '  984301 | 2041916 |     5222 |                   |                   | 2012-04-21 17:39:01\\n',\n",
       " '  984222 |   15824 |     5222 |        38.8951118 |       -77.0363658 | 2012-04-21 17:43:47\\n',\n",
       " '  984315 | 1764391 |     5222 |                   |                   | 2012-04-21 17:37:18\\n',\n",
       " '  984234 |   44652 |     5222 |         33.800745 |         -84.41052 | 2012-04-21 17:43:43\\n']"
      ]
     },
     "execution_count": 3,
     "metadata": {},
     "output_type": "execute_result"
    }
   ],
   "source": [
    "lines[:6]"
   ]
  },
  {
   "cell_type": "markdown",
   "metadata": {},
   "source": [
    "Для удобной работы с этим документом c помощью pandas построим DataFrame, удалив строки, не содержащие координат. Убедимся, что все 396634 строки с координатами считаны успешно."
   ]
  },
  {
   "cell_type": "code",
   "execution_count": 4,
   "metadata": {},
   "outputs": [
    {
     "name": "stderr",
     "output_type": "stream",
     "text": [
      "D:\\Shef\\Anaconda2\\lib\\site-packages\\IPython\\core\\interactiveshell.py:2718: DtypeWarning: Columns (0) have mixed types. Specify dtype option on import or set low_memory=False.\n",
      "  interactivity=interactivity, compiler=compiler, result=result)\n"
     ]
    },
    {
     "name": "stdout",
     "output_type": "stream",
     "text": [
      "Size of the dataframe: (396634, 6)\n"
     ]
    }
   ],
   "source": [
    "# Make a header from the first line\n",
    "header = []\n",
    "for line in lines[0].split('|'):\n",
    "    header.append(line.strip())\n",
    "\n",
    "# Read the data into dataframe    \n",
    "df = pd.read_csv('checkins.dat', delimiter='|', skiprows=[0, 1], names=header, skipinitialspace=True)\n",
    "# Remove rows which contain Nan\n",
    "df.dropna(inplace=True)\n",
    "\n",
    "print 'Size of the dataframe:', df.shape"
   ]
  },
  {
   "cell_type": "markdown",
   "metadata": {},
   "source": [
    "Эта задача — хороший повод познакомиться с алгоритмом MeanShift, который мы обошли стороной в основной части лекций. Его описание при желании можно посмотреть в sklearn user guide, а чуть позже появится дополнительное видео с обзором этого и некоторых других алгоритмов кластеризации. Используйте MeanShift, указав bandwidth=0.1, что в переводе из градусов в метры колеблется примерно от 5 до 10 км в средних широтах.\n",
    "\n",
    "Примечание: на 396634 строках кластеризация будет работать долго. Быть очень терпеливым не возбраняется — результат от этого только улучшится. Но для того, чтобы сдать задание, понадобится сабсет из первых 100 тысяч строк. Это компромисс между качеством и затраченным временем. Обучение алгоритма на всём датасете занимает около часа, а на 100 тыс. строк — примерно 2 минуты, однако этого достаточно для получения корректных результатов."
   ]
  },
  {
   "cell_type": "code",
   "execution_count": 5,
   "metadata": {},
   "outputs": [],
   "source": [
    "# Make subset\n",
    "df_100000 = df.iloc[:100000, [3, 4]]"
   ]
  },
  {
   "cell_type": "code",
   "execution_count": 6,
   "metadata": {},
   "outputs": [
    {
     "name": "stdout",
     "output_type": "stream",
     "text": [
      "Количество кластеров: 3230\n",
      "Всего точек в кластерах: 100000\n"
     ]
    }
   ],
   "source": [
    "clf = MeanShift(bandwidth = 0.1, n_jobs=-1)\n",
    "clf.fit(df_100000)\n",
    "labels = clf.labels_\n",
    "cluster_centers = clf.cluster_centers_\n",
    "print 'Количество кластеров:', len(cluster_centers)\n",
    "print 'Всего точек в кластерах:', len(labels)"
   ]
  },
  {
   "cell_type": "code",
   "execution_count": 25,
   "metadata": {},
   "outputs": [],
   "source": [
    "# save all locations into a file\n",
    "with open('cluster_centers.txt', 'w') as fo:\n",
    "    for cl in cluster_centers:\n",
    "        fo.write('{},{}\\n'.format(cl[0], cl[1]))"
   ]
  },
  {
   "cell_type": "markdown",
   "metadata": {},
   "source": [
    "Некоторые из получившихся кластеров содержат слишком мало точек — такие кластеры не интересны рекламодателям. Поэтому надо определить, какие из кластеров содержат, скажем, больше 15 элементов. Центры этих кластеров и являются оптимальными для размещения."
   ]
  },
  {
   "cell_type": "code",
   "execution_count": 8,
   "metadata": {},
   "outputs": [
    {
     "name": "stdout",
     "output_type": "stream",
     "text": [
      "Количество кластеров с числом точек больше 15: 593.\n",
      "Всего точек в этих кластерах:  90884.0\n"
     ]
    }
   ],
   "source": [
    "n_clusters = len(cluster_centers)    # number of clusters\n",
    "clusters = np.empty([0,4])           # create array of clusters' data: number, latitude, longitude, member count\n",
    "list_labels = labels.tolist()        # convert ndarray to list\n",
    "threshold = 15                       # Threshold for member count\n",
    "for i, cluster in zip(range(n_clusters), cluster_centers):\n",
    "    s = list_labels.count(i)\n",
    "    if s > threshold:\n",
    "        clusters = np.vstack((clusters, [i, cluster[0], cluster[1], s]))\n",
    "print 'Количество кластеров с числом точек больше {}: {}.'.format(threshold, clusters.shape[0])\n",
    "print 'Всего точек в этих кластерах: ', clusters.sum(axis=0)[3]"
   ]
  },
  {
   "cell_type": "markdown",
   "metadata": {},
   "source": [
    "Примерное распределение полученных центров кластеров по миру представлено ниже. Большинство центров располагается в левом верхнем углу, что соответствует Северной Америке."
   ]
  },
  {
   "cell_type": "code",
   "execution_count": 28,
   "metadata": {},
   "outputs": [
    {
     "data": {
      "image/png": "[encoded data removed]",
      "text/plain": [
       "<matplotlib.figure.Figure at 0x1efa85f8>"
      ]
     },
     "metadata": {},
     "output_type": "display_data"
    }
   ],
   "source": [
    "import matplotlib.pyplot as plt\n",
    "x = clusters[:,2]\n",
    "y = clusters[:,1]\n",
    "plt.plot(x, y, 'b+')\n",
    "plt.title('Cluster centres over the world')\n",
    "plt.xlabel('longitude')\n",
    "plt.ylabel('latitude')\n",
    "plt.show()"
   ]
  },
  {
   "cell_type": "markdown",
   "metadata": {},
   "source": [
    "Как мы помним, 20 баннеров надо разместить близ офисов компании. Найдем на Google Maps по запросу Carnival Cruise Line адреса всех офисов:"
   ]
  },
  {
   "cell_type": "code",
   "execution_count": 10,
   "metadata": {},
   "outputs": [],
   "source": [
    "office_addresses = np.array([[33.751277, -118.188740], \n",
    "                             [25.867736, -80.324116], \n",
    "                             [51.503016, -0.075479], \n",
    "                             [52.378894, 4.885084], \n",
    "                             [39.366487, 117.036146], \n",
    "                             [-33.868457, 151.205134]])"
   ]
  },
  {
   "cell_type": "markdown",
   "metadata": {},
   "source": [
    "Осталось определить ближайший к ним центров кластеров. Т.е. посчитать дистанцию до ближайшего офиса для каждой точки и выбрать один с наименьшим значением. Ответ в этом задании — широта и долгота этого центра, записанные через пробел.\n",
    "\n",
    "Примечание: при подсчете расстояний и в кластеризации можно пренебречь тем, что Земля круглая, так как в точках, расположенных близко друг к другу погрешность мала, а в остальных точках значение достаточно велико."
   ]
  },
  {
   "cell_type": "code",
   "execution_count": 13,
   "metadata": {},
   "outputs": [],
   "source": [
    "# Function calculates distance between two points p1 and p2. Returns float.\n",
    "# The points are ndarrays with two coordinates.\n",
    "def e_dist(p1, p2):\n",
    "    return np.sqrt(np.sum((p1-p2)**2))\n",
    "\n",
    "# Function calculates distance between point and array. Returns ndarray. \n",
    "# The point and elements of array are ndarrays with two coordinates.\n",
    "def a_dist(point, array):\n",
    "    res = []\n",
    "    for p in array:\n",
    "        res.append(e_dist(p, point))\n",
    "    return np.array(res)"
   ]
  },
  {
   "cell_type": "code",
   "execution_count": 14,
   "metadata": {},
   "outputs": [],
   "source": [
    "n_clusters2 = len(clusters)                                      # Number of clusters\n",
    "cluster_addresses = np.vstack((clusters[:,1],clusters[:,2])).T   # Make array of cluster centres\n",
    "\n",
    "# Add columns these are distances to the offices. Each columns corresponds to one office address.\n",
    "for office in office_addresses:\n",
    "    d = a_dist(office, cluster_addresses)\n",
    "    d = np.reshape(d, (n_clusters2, 1))\n",
    "    clusters = np.hstack((clusters, d))"
   ]
  },
  {
   "cell_type": "code",
   "execution_count": 27,
   "metadata": {},
   "outputs": [
    {
     "name": "stdout",
     "output_type": "stream",
     "text": [
      "Кластер номер 413 с координатами широта = -33.861, долгота = 151.205, количество точек = 28.\n",
      "Ближайший офис номер 5 с координатами широта = -33.868, долгота = 151.205.\n",
      "Расстояние от офиса до центра кластера = 0.7 км.\n"
     ]
    }
   ],
   "source": [
    "# Find a minimum distance to office for each cluster center\n",
    "min_dist = np.min(clusters[:,4:], axis=1)\n",
    "\n",
    "# Find a cluster with minimal distance\n",
    "min_arg = np.argmin(min_dist)\n",
    "min_cluster = clusters[min_arg,:]\n",
    "\n",
    "# Find the nearest office coordinates for the cluster\n",
    "min_off_arg = np.argmin(min_cluster[4:])\n",
    "near_office = office_addresses[min_off_arg]\n",
    "\n",
    "print 'Кластер номер {:.0f} с координатами широта = {:.3f}, долгота = {:.3f}, количество точек = {:.0f}.'.\\\n",
    "    format(min_cluster[0], min_cluster[1], min_cluster[2], min_cluster[3])\n",
    "print 'Ближайший офис номер {} с координатами широта = {:.3f}, долгота = {:.3f}.'.\\\n",
    "    format(min_off_arg, near_office[0], near_office[1])\n",
    "# length of a degree of longitude at latitude 34 is about 92386 meters.\n",
    "print 'Расстояние от офиса до центра кластера = {:.1f} км.'.format(min_cluster[9]*92.386)"
   ]
  },
  {
   "cell_type": "code",
   "execution_count": 16,
   "metadata": {},
   "outputs": [],
   "source": [
    "# save answer into a file\n",
    "with open('Week_1_answer.txt', 'w') as fo:\n",
    "    fo.write(' '.join((str(min_cluster[1]), str(min_cluster[2]))))"
   ]
  },
  {
   "cell_type": "markdown",
   "metadata": {},
   "source": [
    "Отобразим найденный ближайший офис на карте мира в виде красной точки. Офис располагается в Сиднее."
   ]
  },
  {
   "cell_type": "code",
   "execution_count": 34,
   "metadata": {},
   "outputs": [
    {
     "data": {
      "image/png": "[encoded data removed]",
      "text/plain": [
       "<matplotlib.figure.Figure at 0x1ef5e438>"
      ]
     },
     "metadata": {},
     "output_type": "display_data"
    }
   ],
   "source": [
    "# Draw the office by red point \n",
    "import matplotlib.pyplot as plt\n",
    "x = clusters[:,2]\n",
    "y = clusters[:,1]\n",
    "plt.plot(x, y, 'b+', label='cluster centres')\n",
    "plt.title('Cluster centres over the world')\n",
    "plt.xlabel('longitude')\n",
    "plt.ylabel('latitude')\n",
    "plt.plot(near_office[1], near_office[0], 'r.', label='nearest office')\n",
    "plt.legend()\n",
    "plt.show()"
   ]
  },
  {
   "cell_type": "code",
   "execution_count": null,
   "metadata": {},
   "outputs": [],
   "source": []
  }
 ],
 "metadata": {
  "kernelspec": {
   "display_name": "Python 2",
   "language": "python",
   "name": "python2"
  },
  "language_info": {
   "codemirror_mode": {
    "name": "ipython",
    "version": 2
   },
   "file_extension": ".py",
   "mimetype": "text/x-python",
   "name": "python",
   "nbconvert_exporter": "python",
   "pygments_lexer": "ipython2",
   "version": "2.7.14"
  }
 },
 "nbformat": 4,
 "nbformat_minor": 2
}
