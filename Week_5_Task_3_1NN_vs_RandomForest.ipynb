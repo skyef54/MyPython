{
 "cells": [
  {
   "cell_type": "markdown",
   "metadata": {},
   "source": [
    "# Задание по программированию: 1NN против RandomForest"
   ]
  },
  {
   "cell_type": "markdown",
   "metadata": {},
   "source": [
    "Курс \"Обучение на размеченных данных\" https://www.coursera.org/learn/supervised-learning/home/welcome\n",
    "\n",
    "Автор: Сметанин Александр\n",
    "\n",
    "Дата: 09.06.2018\n",
    "\n",
    "## Введение\n",
    "\n",
    "В этом задании будет использоваться датасет digits из sklearn.datasets. Оставьте последние 25% объектов для контроля качества, разделив X и y на X_train, y_train и X_test, y_test."
   ]
  },
  {
   "cell_type": "code",
   "execution_count": 1,
   "metadata": {},
   "outputs": [
    {
     "name": "stdout",
     "output_type": "stream",
     "text": [
      "Populating the interactive namespace from numpy and matplotlib\n"
     ]
    }
   ],
   "source": [
    "from sklearn.datasets import load_digits\n",
    "from sklearn.model_selection import train_test_split\n",
    "from sklearn import metrics\n",
    "from sklearn.ensemble import RandomForestClassifier\n",
    "%pylab inline"
   ]
  },
  {
   "cell_type": "code",
   "execution_count": 2,
   "metadata": {},
   "outputs": [],
   "source": [
    "# Write answers into a file\n",
    "def write_answer(filename, results):\n",
    "    with open(filename, \"w\") as fout:\n",
    "        fout.write(\" \".join([str(res) for res in results]))"
   ]
  },
  {
   "cell_type": "code",
   "execution_count": 3,
   "metadata": {},
   "outputs": [],
   "source": [
    "ds_digits = load_digits()\n",
    "X_train, X_test, y_train, y_test = train_test_split(ds_digits.data, \n",
    "                                                    ds_digits.target, \n",
    "                                                    test_size=0.25, \n",
    "                                                    random_state=3634, \n",
    "                                                    shuffle = True)\n"
   ]
  },
  {
   "cell_type": "markdown",
   "metadata": {},
   "source": [
    "Целью задания будет реализовать самый простой метрический классификатор — метод ближайшего соседа, а также сравнить качество работы реализованного вами 1NN с RandomForestClassifier из sklearn на 1000 деревьях."
   ]
  },
  {
   "cell_type": "markdown",
   "metadata": {},
   "source": [
    "## Задание 1\n",
    "\n",
    "Реализуйте самостоятельно метод одного ближайшего соседа с евклидовой метрикой для задачи классификации. Можно не извлекать корень из суммы квадратов отклонений, т.к. корень — монотонное преобразование и не влияет на результат работы алгоритма.\n",
    "\n",
    "Никакой дополнительной работы с признаками в этом задании делать не нужно — мы еще успеем этим заняться в других курсах. Ваша реализация может быть устроена следующим образом: можно для каждого классифицируемого объекта составлять список пар (расстояние до точки из обучающей выборки, метка класса в этой точке), затем сортировать этот список (по умолчанию сортировка будет сначала по первому элементу пары, затем по второму), а затем брать первый элемент (с наименьшим расстоянием).\n",
    "\n",
    "Сортировка массива длиной N требует порядка N log N сравнений (строже говоря, она работает за O(N log N)). Подумайте, как можно легко улучшить получившееся время работы. Кроме простого способа найти ближайший объект всего за N сравнений, можно попробовать придумать, как разбить пространство признаков на части и сделать структуру данных, которая позволит быстро искать соседей каждой точки. За выбор метода поиска ближайших соседей в KNeighborsClassifier из sklearn отвечает параметр algorithm — если у вас уже есть некоторый бэкграунд в алгоритмах и структурах данных, вам может быть интересно познакомиться со структурами данных ball tree и kd tree.\n",
    "\n",
    "Доля ошибок, допускаемых 1NN на тестовой выборке, — ответ в задании 1."
   ]
  },
  {
   "cell_type": "code",
   "execution_count": 4,
   "metadata": {},
   "outputs": [],
   "source": [
    "# Функция, вычисляющая евклидово расстояние между точками. Параметры a и b - числовые векторы равной длины\n",
    "def euc_dist(a, b):\n",
    "    try: \n",
    "        return np.sqrt(sum(map(lambda x,y: (x-y)**2, a, b)))\n",
    "    except TypeError:\n",
    "        print 'Euc_dist(): TypeError!'\n",
    "        return None"
   ]
  },
  {
   "cell_type": "code",
   "execution_count": 5,
   "metadata": {},
   "outputs": [],
   "source": [
    "# Функция, вычисляющая расстояние от точки point до всех точек массива matrix при помощи фукции fun.\n",
    "# Размерности point и элементов matrix должны совпадать.\n",
    "# Результат: список пар (расстояние, класс = target)\n",
    "def dist_list(point, data, target, fun):\n",
    "    res = list()\n",
    "    for dat, tgt in zip(data, target):\n",
    "        d = fun(point, dat)\n",
    "        res.append([d, tgt])\n",
    "    return res"
   ]
  },
  {
   "cell_type": "code",
   "execution_count": 6,
   "metadata": {},
   "outputs": [],
   "source": [
    "# Функция, присваивающая класс объекту методом 1NN.\n",
    "# test_point - объект\n",
    "# train_data, train_target - матрица обучающей выборки, обучающий вектор классов\n",
    "# fun - функция, вычисляющая расстояние между точками\n",
    "# Результат: класс объекта\n",
    "def NN1(test_point, train_data, train_target, fun):\n",
    "    dists = dist_list(test_point, train_data, train_target, fun)\n",
    "    dists.sort()\n",
    "    return dists[0][1]"
   ]
  },
  {
   "cell_type": "code",
   "execution_count": 7,
   "metadata": {},
   "outputs": [
    {
     "name": "stdout",
     "output_type": "stream",
     "text": [
      "Wall time: 37.8 s\n"
     ]
    }
   ],
   "source": [
    "%%time\n",
    "# Программа\n",
    "predict = list()\n",
    "for obj in X_test:\n",
    "    predict.append(NN1(obj, X_train, y_train, euc_dist))"
   ]
  },
  {
   "cell_type": "markdown",
   "metadata": {},
   "source": [
    "Время работы при использовании сортировки списков = 36 сек."
   ]
  },
  {
   "cell_type": "code",
   "execution_count": 8,
   "metadata": {},
   "outputs": [
    {
     "name": "stdout",
     "output_type": "stream",
     "text": [
      "0.013333333333333308\n"
     ]
    }
   ],
   "source": [
    "# Вычисляем долю ошибок и записываем ее в файл\n",
    "fault_rate = 1 - metrics.accuracy_score(y_test, predict)\n",
    "print fault_rate\n",
    "# write_answer('Week_5_Task_3_Answer_1.txt', [fault_rate])"
   ]
  },
  {
   "cell_type": "code",
   "execution_count": 9,
   "metadata": {},
   "outputs": [
    {
     "name": "stdout",
     "output_type": "stream",
     "text": [
      "Accuracy = 0.9866666666666667\n",
      "Precision = 0.9858281111755535\n",
      "Recall = 0.9864868421052633\n",
      "F-metrics = 0.98599478863042\n",
      "\n",
      "Confusion matrix =\n",
      "[[42  0  0  0  0  0  0  0  0  0]\n",
      " [ 0 40  0  0  0  0  0  0  0  0]\n",
      " [ 0  0 41  0  0  0  0  0  0  0]\n",
      " [ 0  0  0 60  0  0  0  0  0  0]\n",
      " [ 0  0  0  0 36  0  0  0  0  0]\n",
      " [ 0  0  0  0  0 49  0  0  0  1]\n",
      " [ 0  0  0  0  0  0 46  0  0  0]\n",
      " [ 0  0  0  0  0  0  0 49  0  0]\n",
      " [ 0  1  0  0  0  0  1  0 45  1]\n",
      " [ 0  0  0  1  1  0  0  0  0 36]]\n",
      "\n",
      "Classification report\n",
      "             precision    recall  f1-score   support\n",
      "\n",
      "          0       1.00      1.00      1.00        42\n",
      "          1       0.98      1.00      0.99        40\n",
      "          2       1.00      1.00      1.00        41\n",
      "          3       0.98      1.00      0.99        60\n",
      "          4       0.97      1.00      0.99        36\n",
      "          5       1.00      0.98      0.99        50\n",
      "          6       0.98      1.00      0.99        46\n",
      "          7       1.00      1.00      1.00        49\n",
      "          8       1.00      0.94      0.97        48\n",
      "          9       0.95      0.95      0.95        38\n",
      "\n",
      "avg / total       0.99      0.99      0.99       450\n",
      "\n"
     ]
    }
   ],
   "source": [
    "# Покажем метрики качества\n",
    "print 'Accuracy =', metrics.accuracy_score(y_test, predict)\n",
    "print 'Precision =', metrics.precision_score(y_test, predict, average='macro')\n",
    "print 'Recall =', metrics.recall_score(y_test, predict, average='macro')\n",
    "print 'F-metrics =', metrics.f1_score(y_test, predict, average='macro')\n",
    "print '\\nConfusion matrix =\\n', metrics.confusion_matrix(y_test, predict)\n",
    "print '\\nClassification report\\n', metrics.classification_report(y_test, predict)"
   ]
  },
  {
   "cell_type": "code",
   "execution_count": 10,
   "metadata": {},
   "outputs": [
    {
     "name": "stdout",
     "output_type": "stream",
     "text": [
      "             precision    recall  f1-score   support\n",
      "\n",
      "          0       1.00      1.00      1.00        42\n",
      "          1       0.98      1.00      0.99        40\n",
      "          2       1.00      1.00      1.00        41\n",
      "          3       0.98      1.00      0.99        60\n",
      "          4       0.97      1.00      0.99        36\n",
      "          5       1.00      0.98      0.99        50\n",
      "          6       0.98      1.00      0.99        46\n",
      "          7       1.00      1.00      1.00        49\n",
      "          8       1.00      0.94      0.97        48\n",
      "          9       0.95      0.95      0.95        38\n",
      "\n",
      "avg / total       0.99      0.99      0.99       450\n",
      "\n"
     ]
    }
   ],
   "source": [
    "print metrics.classification_report(y_test, predict)"
   ]
  },
  {
   "cell_type": "markdown",
   "metadata": {},
   "source": [
    "## Задание 2\n",
    "\n",
    "Теперь обучите на обучающей выборке RandomForestClassifier(n_estimators=1000) из sklearn. Сделайте прогнозы на тестовой выборке и оцените долю ошибок классификации на ней. Эта доля — ответ в задании 2. Обратите внимание на то, как соотносится качество работы случайного леса с качеством работы, пожалуй, одного из самых простых методов — 1NN. Такое различие — особенность данного датасета, но нужно всегда помнить, что такая ситуация тоже может иметь место, и не забывать про простые методы."
   ]
  },
  {
   "cell_type": "code",
   "execution_count": 11,
   "metadata": {},
   "outputs": [
    {
     "name": "stdout",
     "output_type": "stream",
     "text": [
      "Wall time: 4.29 s\n"
     ]
    }
   ],
   "source": [
    "%%time\n",
    "RF_classifier = RandomForestClassifier(n_estimators=1000, random_state=3634)\n",
    "RF_classifier.fit(X_train, y_train)\n",
    "RF_predict = RF_classifier.predict(X_test)"
   ]
  },
  {
   "cell_type": "markdown",
   "metadata": {},
   "source": [
    "Время работы классификатора RandomForest = 4.46 сек."
   ]
  },
  {
   "cell_type": "code",
   "execution_count": 12,
   "metadata": {},
   "outputs": [
    {
     "name": "stdout",
     "output_type": "stream",
     "text": [
      "0.026666666666666616\n"
     ]
    }
   ],
   "source": [
    "# Вычисляем долю ошибок и записываем ее в файл\n",
    "fault_rate = 1 - metrics.accuracy_score(y_test, RF_predict)\n",
    "print fault_rate\n",
    "# write_answer('Week_5_Task_3_Answer_2.txt', [fault_rate])"
   ]
  },
  {
   "cell_type": "code",
   "execution_count": 13,
   "metadata": {},
   "outputs": [
    {
     "name": "stdout",
     "output_type": "stream",
     "text": [
      "Accuracy = 0.9733333333333334\n",
      "Precision = 0.9729022078745265\n",
      "Recall = 0.9743059371336485\n",
      "F-metrics = 0.9734090807790384\n",
      "\n",
      "Confusion matrix =\n",
      "[[41  0  0  0  1  0  0  0  0  0]\n",
      " [ 0 40  0  0  0  0  0  0  0  0]\n",
      " [ 1  0 40  0  0  0  0  0  0  0]\n",
      " [ 0  0  0 57  0  1  0  0  1  1]\n",
      " [ 0  0  0  0 35  0  0  1  0  0]\n",
      " [ 0  0  0  0  0 50  0  0  0  0]\n",
      " [ 0  0  0  0  0  1 45  0  0  0]\n",
      " [ 0  0  0  0  1  0  0 48  0  0]\n",
      " [ 0  1  0  1  0  0  0  0 45  1]\n",
      " [ 0  0  0  0  0  0  0  1  0 37]]\n",
      "\n",
      "Classification report\n",
      "             precision    recall  f1-score   support\n",
      "\n",
      "          0       0.98      0.98      0.98        42\n",
      "          1       0.98      1.00      0.99        40\n",
      "          2       1.00      0.98      0.99        41\n",
      "          3       0.98      0.95      0.97        60\n",
      "          4       0.95      0.97      0.96        36\n",
      "          5       0.96      1.00      0.98        50\n",
      "          6       1.00      0.98      0.99        46\n",
      "          7       0.96      0.98      0.97        49\n",
      "          8       0.98      0.94      0.96        48\n",
      "          9       0.95      0.97      0.96        38\n",
      "\n",
      "avg / total       0.97      0.97      0.97       450\n",
      "\n"
     ]
    }
   ],
   "source": [
    "# Покажем метрики качества\n",
    "print 'Accuracy =', metrics.accuracy_score(y_test, RF_predict)\n",
    "print 'Precision =', metrics.precision_score(y_test, RF_predict, average='macro')\n",
    "print 'Recall =', metrics.recall_score(y_test, RF_predict, average='macro')\n",
    "print 'F-metrics =', metrics.f1_score(y_test, RF_predict, average='macro')\n",
    "print '\\nConfusion matrix =\\n', metrics.confusion_matrix(y_test, RF_predict)\n",
    "print '\\nClassification report\\n', metrics.classification_report(y_test, RF_predict)"
   ]
  },
  {
   "cell_type": "markdown",
   "metadata": {},
   "source": [
    "## Выводы\n",
    "\n",
    "На выбранном наборе данных точность выше у метода 1NN, а скорость работы - у классификатора RandomForest.\n",
    "\n",
    "Качество обоих методов значительно повышается, если перемешать данные перед разделением на обучающую и тестовую выборки. Точность 1NN - до 0,987, RandomForest - до 0,973."
   ]
  },
  {
   "cell_type": "code",
   "execution_count": null,
   "metadata": {},
   "outputs": [],
   "source": []
  }
 ],
 "metadata": {
  "kernelspec": {
   "display_name": "Python 2",
   "language": "python",
   "name": "python2"
  },
  "language_info": {
   "codemirror_mode": {
    "name": "ipython",
    "version": 2
   },
   "file_extension": ".py",
   "mimetype": "text/x-python",
   "name": "python",
   "nbconvert_exporter": "python",
   "pygments_lexer": "ipython2",
   "version": "2.7.14"
  }
 },
 "nbformat": 4,
 "nbformat_minor": 2
}
