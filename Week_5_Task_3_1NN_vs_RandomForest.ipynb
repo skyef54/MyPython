{
 "cells": [
  {
   "cell_type": "markdown",
   "metadata": {},
   "source": [
    "# Задание по программированию: 1NN против RandomForest"
   ]
  },
  {
   "cell_type": "markdown",
   "metadata": {},
   "source": [
    "Курс \"Обучение на размеченных данных\" https://www.coursera.org/learn/supervised-learning/home/welcome\n",
    "\n",
    "Автор: Сметанин Александр\n",
    "\n",
    "Дата: 09.06.2018\n",
    "\n",
    "## Введение\n",
    "\n",
    "В этом задании будет использоваться датасет digits из sklearn.datasets. Оставьте последние 25% объектов для контроля качества, разделив X и y на X_train, y_train и X_test, y_test."
   ]
  },
  {
   "cell_type": "code",
   "execution_count": 2,
   "metadata": {},
   "outputs": [
    {
     "name": "stdout",
     "output_type": "stream",
     "text": [
      "Populating the interactive namespace from numpy and matplotlib\n"
     ]
    }
   ],
   "source": [
    "from sklearn.datasets import load_digits\n",
    "from sklearn.model_selection import train_test_split\n",
    "from sklearn import metrics\n",
    "from sklearn.ensemble import RandomForestClassifier\n",
    "%pylab inline"
   ]
  },
  {
   "cell_type": "code",
   "execution_count": 289,
   "metadata": {},
   "outputs": [],
   "source": [
    "# Write answers into a file\n",
    "def write_answer(filename, results):\n",
    "    with open(filename, \"w\") as fout:\n",
    "        fout.write(\" \".join([str(res) for res in results]))"
   ]
  },
  {
   "cell_type": "code",
   "execution_count": 3,
   "metadata": {},
   "outputs": [],
   "source": [
    "ds_digits = load_digits()\n",
    "X_train, X_test, y_train, y_test = train_test_split(ds_digits.data, \n",
    "                                                    ds_digits.target, \n",
    "                                                    test_size=0.25, \n",
    "                                                    random_state=3634, \n",
    "                                                    shuffle = False)\n"
   ]
  },
  {
   "cell_type": "markdown",
   "metadata": {},
   "source": [
    "Целью задания будет реализовать самый простой метрический классификатор — метод ближайшего соседа, а также сравнить качество работы реализованного вами 1NN с RandomForestClassifier из sklearn на 1000 деревьях."
   ]
  },
  {
   "cell_type": "markdown",
   "metadata": {},
   "source": [
    "## Задание 1\n",
    "\n",
    "Реализуйте самостоятельно метод одного ближайшего соседа с евклидовой метрикой для задачи классификации. Можно не извлекать корень из суммы квадратов отклонений, т.к. корень — монотонное преобразование и не влияет на результат работы алгоритма.\n",
    "\n",
    "Никакой дополнительной работы с признаками в этом задании делать не нужно — мы еще успеем этим заняться в других курсах. Ваша реализация может быть устроена следующим образом: можно для каждого классифицируемого объекта составлять список пар (расстояние до точки из обучающей выборки, метка класса в этой точке), затем сортировать этот список (по умолчанию сортировка будет сначала по первому элементу пары, затем по второму), а затем брать первый элемент (с наименьшим расстоянием).\n",
    "\n",
    "Сортировка массива длиной N требует порядка N log N сравнений (строже говоря, она работает за O(N log N)). Подумайте, как можно легко улучшить получившееся время работы. Кроме простого способа найти ближайший объект всего за N сравнений, можно попробовать придумать, как разбить пространство признаков на части и сделать структуру данных, которая позволит быстро искать соседей каждой точки. За выбор метода поиска ближайших соседей в KNeighborsClassifier из sklearn отвечает параметр algorithm — если у вас уже есть некоторый бэкграунд в алгоритмах и структурах данных, вам может быть интересно познакомиться со структурами данных ball tree и kd tree.\n",
    "\n",
    "Доля ошибок, допускаемых 1NN на тестовой выборке, — ответ в задании 1."
   ]
  },
  {
   "cell_type": "code",
   "execution_count": 146,
   "metadata": {},
   "outputs": [],
   "source": [
    "# Функция, вычисляющая евклидово расстояние между точками. Параметры a и b - числовые векторы равной длины\n",
    "def euc_dist(a, b):\n",
    "    try: \n",
    "        return np.sqrt(sum(map(lambda x,y: (x-y)**2, a, b)))\n",
    "    except TypeError:\n",
    "        print 'Euc_dist(): TypeError!'\n",
    "        return None"
   ]
  },
  {
   "cell_type": "code",
   "execution_count": 238,
   "metadata": {},
   "outputs": [],
   "source": [
    "# Функция, вычисляющая расстояние от точки point до всех точек массива matrix при помощи фукции fun.\n",
    "# Размерности point и элементов matrix должны совпадать.\n",
    "# Результат: список пар (расстояние, класс = target)\n",
    "def dist_list(point, data, target, fun):\n",
    "    res = list()\n",
    "    for dat, tgt in zip(data, target):\n",
    "        d = fun(point, dat)\n",
    "        res.append([d, tgt])\n",
    "    return res"
   ]
  },
  {
   "cell_type": "code",
   "execution_count": 249,
   "metadata": {},
   "outputs": [],
   "source": [
    "# Функция, присваивающая класс объекту методом 1NN.\n",
    "# test_point - объект\n",
    "# train_data, train_target - матрица обучающей выборки, обучающий вектор классов\n",
    "# fun - функция, вычисляющая расстояние между точками\n",
    "# Результат: класс объекта\n",
    "def NN1(test_point, train_data, train_target, fun):\n",
    "    dists = dist_list(test_point, train_data, train_target, fun)\n",
    "    dists.sort()\n",
    "    return dists[0][1]"
   ]
  },
  {
   "cell_type": "code",
   "execution_count": 260,
   "metadata": {},
   "outputs": [
    {
     "name": "stdout",
     "output_type": "stream",
     "text": [
      "Wall time: 36 s\n"
     ]
    }
   ],
   "source": [
    "%%time\n",
    "# Программа\n",
    "predict = list()\n",
    "for obj in X_test:\n",
    "    predict.append(NN1(obj, X_train, y_train, euc_dist))"
   ]
  },
  {
   "cell_type": "markdown",
   "metadata": {},
   "source": [
    "Время работы при использовании сортировки списков = 36 сек."
   ]
  },
  {
   "cell_type": "code",
   "execution_count": 293,
   "metadata": {},
   "outputs": [
    {
     "name": "stdout",
     "output_type": "stream",
     "text": [
      "0.0377777777777778\n"
     ]
    }
   ],
   "source": [
    "# Вычисляем долю ошибок и записываем ее в файл\n",
    "fault_rate = 1 - metrics.accuracy_score(y_test, predict)\n",
    "print fault_rate\n",
    "write_answer('Week_5_Task_3_Answer_1.txt', [fault_rate])"
   ]
  },
  {
   "cell_type": "code",
   "execution_count": 300,
   "metadata": {},
   "outputs": [
    {
     "name": "stdout",
     "output_type": "stream",
     "text": [
      "Accuracy = 0.9622222222222222\n",
      "Precision = 0.9631395159287652\n",
      "Recall = 0.962339056103327\n",
      "F-metrics = 0.9620276013344361\n",
      "\n",
      "Confusion matrix =\n",
      "[[43  0  0  0  0  0  0  0  0  0]\n",
      " [ 0 46  0  0  0  0  0  0  0  0]\n",
      " [ 0  0 43  0  0  0  0  0  0  0]\n",
      " [ 0  0  0 41  0  2  0  1  2  1]\n",
      " [ 0  0  0  0 45  0  0  0  0  3]\n",
      " [ 0  0  0  0  0 44  1  0  0  0]\n",
      " [ 0  0  0  0  0  0 47  0  0  0]\n",
      " [ 0  0  0  0  0  0  0 45  0  0]\n",
      " [ 0  3  0  0  0  0  0  0 37  1]\n",
      " [ 0  0  0  1  0  2  0  0  0 42]]\n",
      "\n",
      "Classification report\n",
      "             precision    recall  f1-score   support\n",
      "\n",
      "          0       1.00      1.00      1.00        43\n",
      "          1       0.94      1.00      0.97        46\n",
      "          2       1.00      1.00      1.00        43\n",
      "          3       0.98      0.87      0.92        47\n",
      "          4       1.00      0.94      0.97        48\n",
      "          5       0.92      0.98      0.95        45\n",
      "          6       0.98      1.00      0.99        47\n",
      "          7       0.98      1.00      0.99        45\n",
      "          8       0.95      0.90      0.92        41\n",
      "          9       0.89      0.93      0.91        45\n",
      "\n",
      "avg / total       0.96      0.96      0.96       450\n",
      "\n"
     ]
    }
   ],
   "source": [
    "# Покажем метрики качества\n",
    "print 'Accuracy =', metrics.accuracy_score(y_test, predict)\n",
    "print 'Precision =', metrics.precision_score(y_test, predict, average='macro')\n",
    "print 'Recall =', metrics.recall_score(y_test, predict, average='macro')\n",
    "print 'F-metrics =', metrics.f1_score(y_test, predict, average='macro')\n",
    "print '\\nConfusion matrix =\\n', metrics.confusion_matrix(y_test, predict)\n",
    "print '\\nClassification report\\n', metrics.classification_report(y_test, predict)"
   ]
  },
  {
   "cell_type": "code",
   "execution_count": 296,
   "metadata": {},
   "outputs": [
    {
     "name": "stdout",
     "output_type": "stream",
     "text": [
      "             precision    recall  f1-score   support\n",
      "\n",
      "          0       1.00      1.00      1.00        43\n",
      "          1       0.94      1.00      0.97        46\n",
      "          2       1.00      1.00      1.00        43\n",
      "          3       0.98      0.87      0.92        47\n",
      "          4       1.00      0.94      0.97        48\n",
      "          5       0.92      0.98      0.95        45\n",
      "          6       0.98      1.00      0.99        47\n",
      "          7       0.98      1.00      0.99        45\n",
      "          8       0.95      0.90      0.92        41\n",
      "          9       0.89      0.93      0.91        45\n",
      "\n",
      "avg / total       0.96      0.96      0.96       450\n",
      "\n"
     ]
    }
   ],
   "source": [
    "print metrics.classification_report(y_test, predict)"
   ]
  },
  {
   "cell_type": "markdown",
   "metadata": {},
   "source": [
    "## Задание 2\n",
    "\n",
    "Теперь обучите на обучающей выборке RandomForestClassifier(n_estimators=1000) из sklearn. Сделайте прогнозы на тестовой выборке и оцените долю ошибок классификации на ней. Эта доля — ответ в задании 2. Обратите внимание на то, как соотносится качество работы случайного леса с качеством работы, пожалуй, одного из самых простых методов — 1NN. Такое различие — особенность данного датасета, но нужно всегда помнить, что такая ситуация тоже может иметь место, и не забывать про простые методы."
   ]
  },
  {
   "cell_type": "code",
   "execution_count": 303,
   "metadata": {},
   "outputs": [
    {
     "name": "stdout",
     "output_type": "stream",
     "text": [
      "Wall time: 4.46 s\n"
     ]
    }
   ],
   "source": [
    "%%time\n",
    "RF_classifier = RandomForestClassifier(n_estimators=1000, random_state=3634)\n",
    "RF_classifier.fit(X_train, y_train)\n",
    "RF_predict = RF_classifier.predict(X_test)"
   ]
  },
  {
   "cell_type": "markdown",
   "metadata": {},
   "source": [
    "Время работы классификатора RandomForest = 4.46 сек."
   ]
  },
  {
   "cell_type": "code",
   "execution_count": 304,
   "metadata": {},
   "outputs": [
    {
     "name": "stdout",
     "output_type": "stream",
     "text": [
      "0.06444444444444442\n"
     ]
    }
   ],
   "source": [
    "# Вычисляем долю ошибок и записываем ее в файл\n",
    "fault_rate = 1 - metrics.accuracy_score(y_test, RF_predict)\n",
    "print fault_rate\n",
    "write_answer('Week_5_Task_3_Answer_2.txt', [fault_rate])"
   ]
  },
  {
   "cell_type": "code",
   "execution_count": 305,
   "metadata": {},
   "outputs": [
    {
     "name": "stdout",
     "output_type": "stream",
     "text": [
      "Accuracy = 0.9355555555555556\n",
      "Precision = 0.9376222308262274\n",
      "Recall = 0.9356498075293663\n",
      "F-metrics = 0.9344426879176548\n",
      "\n",
      "Confusion matrix =\n",
      "[[42  0  0  0  1  0  0  0  0  0]\n",
      " [ 0 43  0  0  0  0  0  0  0  3]\n",
      " [ 1  0 42  0  0  0  0  0  0  0]\n",
      " [ 0  0  0 36  0  2  0  2  7  0]\n",
      " [ 0  0  0  0 45  0  0  3  0  0]\n",
      " [ 0  0  0  0  0 44  1  0  0  0]\n",
      " [ 0  0  0  0  0  0 47  0  0  0]\n",
      " [ 0  0  0  0  0  0  0 45  0  0]\n",
      " [ 0  2  0  0  1  1  0  1 35  1]\n",
      " [ 0  0  0  0  0  2  0  0  1 42]]\n",
      "\n",
      "Classification report\n",
      "             precision    recall  f1-score   support\n",
      "\n",
      "          0       0.98      0.98      0.98        43\n",
      "          1       0.96      0.93      0.95        46\n",
      "          2       1.00      0.98      0.99        43\n",
      "          3       1.00      0.77      0.87        47\n",
      "          4       0.96      0.94      0.95        48\n",
      "          5       0.90      0.98      0.94        45\n",
      "          6       0.98      1.00      0.99        47\n",
      "          7       0.88      1.00      0.94        45\n",
      "          8       0.81      0.85      0.83        41\n",
      "          9       0.91      0.93      0.92        45\n",
      "\n",
      "avg / total       0.94      0.94      0.93       450\n",
      "\n"
     ]
    }
   ],
   "source": [
    "# Покажем метрики качества\n",
    "print 'Accuracy =', metrics.accuracy_score(y_test, RF_predict)\n",
    "print 'Precision =', metrics.precision_score(y_test, RF_predict, average='macro')\n",
    "print 'Recall =', metrics.recall_score(y_test, RF_predict, average='macro')\n",
    "print 'F-metrics =', metrics.f1_score(y_test, RF_predict, average='macro')\n",
    "print '\\nConfusion matrix =\\n', metrics.confusion_matrix(y_test, RF_predict)\n",
    "print '\\nClassification report\\n', metrics.classification_report(y_test, RF_predict)"
   ]
  },
  {
   "cell_type": "markdown",
   "metadata": {},
   "source": [
    "## Выводы\n",
    "\n",
    "На выбранном наборе данных точность выше у метода 1NN, а скорость работы - у классификатора RandomForest."
   ]
  },
  {
   "cell_type": "code",
   "execution_count": 240,
   "metadata": {},
   "outputs": [],
   "source": [
    "index = range(30, 51)\n",
    "index2 = range(30,49)\n",
    "p = X_test[0,:10]\n",
    "m = X_train[index,:10]\n",
    "t = y_train[index2]"
   ]
  },
  {
   "cell_type": "code",
   "execution_count": 241,
   "metadata": {},
   "outputs": [
    {
     "data": {
      "text/plain": [
       "[[13.228756555322953, 0],\n",
       " [17.146428199482248, 9],\n",
       " [13.784048752090222, 5],\n",
       " [18.920887928424502, 5],\n",
       " [17.832554500127006, 6],\n",
       " [16.76305461424021, 5],\n",
       " [13.601470508735444, 0],\n",
       " [22.759613353482084, 9],\n",
       " [10.488088481701515, 8],\n",
       " [10.583005244258363, 9],\n",
       " [12.96148139681572, 8],\n",
       " [16.3707055437449, 4],\n",
       " [20.049937655763422, 1],\n",
       " [10.14889156509222, 7],\n",
       " [5.830951894845301, 7],\n",
       " [8.774964387392123, 3],\n",
       " [25.787593916455254, 5],\n",
       " [18.0, 1],\n",
       " [12.489995996796797, 0]]"
      ]
     },
     "execution_count": 241,
     "metadata": {},
     "output_type": "execute_result"
    }
   ],
   "source": [
    "val = nearest(p,m,t,euc_dist)\n",
    "val"
   ]
  },
  {
   "cell_type": "code",
   "execution_count": 242,
   "metadata": {},
   "outputs": [],
   "source": [
    "val.sort()"
   ]
  },
  {
   "cell_type": "code",
   "execution_count": 243,
   "metadata": {},
   "outputs": [
    {
     "data": {
      "text/plain": [
       "[[5.830951894845301, 7],\n",
       " [8.774964387392123, 3],\n",
       " [10.14889156509222, 7],\n",
       " [10.488088481701515, 8],\n",
       " [10.583005244258363, 9],\n",
       " [12.489995996796797, 0],\n",
       " [12.96148139681572, 8],\n",
       " [13.228756555322953, 0],\n",
       " [13.601470508735444, 0],\n",
       " [13.784048752090222, 5],\n",
       " [16.3707055437449, 4],\n",
       " [16.76305461424021, 5],\n",
       " [17.146428199482248, 9],\n",
       " [17.832554500127006, 6],\n",
       " [18.0, 1],\n",
       " [18.920887928424502, 5],\n",
       " [20.049937655763422, 1],\n",
       " [22.759613353482084, 9],\n",
       " [25.787593916455254, 5]]"
      ]
     },
     "execution_count": 243,
     "metadata": {},
     "output_type": "execute_result"
    }
   ],
   "source": [
    "val"
   ]
  },
  {
   "cell_type": "code",
   "execution_count": 244,
   "metadata": {},
   "outputs": [
    {
     "data": {
      "text/plain": [
       "7"
      ]
     },
     "execution_count": 244,
     "metadata": {},
     "output_type": "execute_result"
    }
   ],
   "source": [
    "val[0][1]"
   ]
  },
  {
   "cell_type": "code",
   "execution_count": 248,
   "metadata": {},
   "outputs": [
    {
     "data": {
      "text/plain": [
       "7"
      ]
     },
     "execution_count": 248,
     "metadata": {},
     "output_type": "execute_result"
    }
   ],
   "source": [
    "NN1(p,m,t,euc_dist)"
   ]
  },
  {
   "cell_type": "code",
   "execution_count": null,
   "metadata": {},
   "outputs": [],
   "source": []
  }
 ],
 "metadata": {
  "kernelspec": {
   "display_name": "Python 2",
   "language": "python",
   "name": "python2"
  },
  "language_info": {
   "codemirror_mode": {
    "name": "ipython",
    "version": 2
   },
   "file_extension": ".py",
   "mimetype": "text/x-python",
   "name": "python",
   "nbconvert_exporter": "python",
   "pygments_lexer": "ipython2",
   "version": "2.7.14"
  }
 },
 "nbformat": 4,
 "nbformat_minor": 2
}
